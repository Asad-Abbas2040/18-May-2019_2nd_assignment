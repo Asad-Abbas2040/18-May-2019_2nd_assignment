{
 "cells": [
  {
   "cell_type": "markdown",
   "metadata": {},
   "source": [
    "# The ABC company has hired you as an intern on the coding team that creates e-commerce applications.  \n",
    "You must write a script that asks the user for a value. The value must be used as a whole number in a calculation, even if the user enters a decimal value. \n",
    "\n",
    "You need to write the code to meet the requirements."
   ]
  },
  {
   "cell_type": "code",
   "execution_count": 19,
   "metadata": {},
   "outputs": [
    {
     "name": "stdout",
     "output_type": "stream",
     "text": [
      "Enter your value: 1.2\n",
      "1.2\n"
     ]
    }
   ],
   "source": [
    "user_value = float(input(\"Enter your value: \"))\n",
    "print(user_value)"
   ]
  },
  {
   "cell_type": "code",
   "execution_count": 21,
   "metadata": {},
   "outputs": [
    {
     "name": "stdout",
     "output_type": "stream",
     "text": [
      "1\n"
     ]
    }
   ],
   "source": [
    "new_value = int(user_value)\n",
    "print(new_value)"
   ]
  },
  {
   "cell_type": "markdown",
   "metadata": {},
   "source": [
    "# You are creating a Python program that shows a congratulation message to employees on their service anniversary.\n",
    "You need to calculate the number of years of service and print a congratulatory message."
   ]
  },
  {
   "cell_type": "code",
   "execution_count": 4,
   "metadata": {},
   "outputs": [
    {
     "name": "stdout",
     "output_type": "stream",
     "text": [
      "Enter your year of joining: 1990\n",
      "Congratulation\n"
     ]
    }
   ],
   "source": [
    "year_of_joining = input (\"Enter your year of joining: \")\n",
    "service_years = 2019 - int(year_of_joining)\n",
    "if service_years >= 25:\n",
    "    print (\"Congratulation\")"
   ]
  },
  {
   "cell_type": "code",
   "execution_count": null,
   "metadata": {},
   "outputs": [],
   "source": []
  },
  {
   "cell_type": "code",
   "execution_count": null,
   "metadata": {},
   "outputs": [],
   "source": []
  },
  {
   "cell_type": "markdown",
   "metadata": {},
   "source": [
    "# Write a Python program to convert temperatures  from fahrenheit to celsius, \n",
    "#step 1: take \"fahrenheit Temperature\" from user in integer data type\n",
    "#step 2: apply formula that is       (  C = (5/9) * (fahrenheit_temperature - 32)  )\n",
    "#step 3: print step 2. "
   ]
  },
  {
   "cell_type": "code",
   "execution_count": 5,
   "metadata": {},
   "outputs": [
    {
     "name": "stdout",
     "output_type": "stream",
     "text": [
      "Input temperature in Farenheit: 102\n",
      "38.88888888888889\n"
     ]
    }
   ],
   "source": [
    "temp_farenheit = input (\"Input temperature in Farenheit: \")\n",
    "temp_celsius = ((5/9)*(int(temp_farenheit)-32))\n",
    "print(temp_celsius)"
   ]
  },
  {
   "cell_type": "code",
   "execution_count": null,
   "metadata": {},
   "outputs": [],
   "source": []
  },
  {
   "cell_type": "code",
   "execution_count": null,
   "metadata": {},
   "outputs": [],
   "source": []
  },
  {
   "cell_type": "markdown",
   "metadata": {},
   "source": [
    "<h3>assign a vlue to grade by checking the following conditions:: </h3>\n",
    "<h3>if % is greater then and equal to 90 and less then 100 grade is A+ </h3>\n",
    "<h3>if % is greater then and equal to 80 and less then 90 grade is A </h3>\n",
    "<h3>if % is greater then and equal to 70 and less then 80 grade is B </h3>\n",
    "<h3>if % is greater then and equal to 60 and less then 70 grade is C </h3>\n",
    "<h3>if % is less than 60 grade is FAIL </h3>\n"
   ]
  },
  {
   "cell_type": "code",
   "execution_count": 37,
   "metadata": {},
   "outputs": [
    {
     "name": "stdout",
     "output_type": "stream",
     "text": [
      "Enter your obtained marks: 236\n",
      "47.199999999999996\n"
     ]
    }
   ],
   "source": [
    "obtained_marks = input (\"Enter your obtained marks: \")\n",
    "total_marks = 500\n",
    "percentage = ((int (obtained_marks)/total_marks)*100)\n",
    "print(percentage)"
   ]
  },
  {
   "cell_type": "code",
   "execution_count": 39,
   "metadata": {},
   "outputs": [
    {
     "name": "stdout",
     "output_type": "stream",
     "text": [
      "You have been Failed\n"
     ]
    }
   ],
   "source": [
    "if (percentage >= 90 and percentage < 100):\n",
    "    grade = 'A+'\n",
    "    print(\"Your grade is A+\")\n",
    "elif (percentage >= 80 and percentage < 90):\n",
    "    grade = 'A'\n",
    "    print(\"Your grade is A\")\n",
    "elif (percentage >= 70 and percentage < 80):\n",
    "    grade = 'B'\n",
    "    print(\"Your grade is B\")\n",
    "elif (percentage >= 60 and percentage < 70):\n",
    "    grade = 'C'\n",
    "    print(\"Your grade is C\")\n",
    "elif (percentage < 60):\n",
    "    grade = 'Fail'\n",
    "    print(\"You have been Failed\")"
   ]
  },
  {
   "cell_type": "code",
   "execution_count": null,
   "metadata": {},
   "outputs": [],
   "source": []
  },
  {
   "cell_type": "markdown",
   "metadata": {},
   "source": [
    "<h3>Print grade percentage and obtained marks</h3>"
   ]
  },
  {
   "cell_type": "code",
   "execution_count": 40,
   "metadata": {},
   "outputs": [
    {
     "name": "stdout",
     "output_type": "stream",
     "text": [
      "your obtained marks =  236\n",
      "your percentage     =  47.199999999999996 %\n",
      "your Grade is       =  Fail\n"
     ]
    }
   ],
   "source": [
    "print(\"your obtained marks = \" ,obtained_marks)\n",
    "print(\"your percentage     = \" ,percentage,\"%\")\n",
    "print(\"your Grade is       = \" ,grade)"
   ]
  },
  {
   "cell_type": "code",
   "execution_count": null,
   "metadata": {},
   "outputs": [],
   "source": []
  }
 ],
 "metadata": {
  "kernelspec": {
   "display_name": "Python 3",
   "language": "python",
   "name": "python3"
  },
  "language_info": {
   "codemirror_mode": {
    "name": "ipython",
    "version": 3
   },
   "file_extension": ".py",
   "mimetype": "text/x-python",
   "name": "python",
   "nbconvert_exporter": "python",
   "pygments_lexer": "ipython3",
   "version": "3.7.3"
  }
 },
 "nbformat": 4,
 "nbformat_minor": 2
}
